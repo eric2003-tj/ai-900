{
 "cells": [
  {
   "cell_type": "markdown",
   "id": "7226577f",
   "metadata": {},
   "source": [
    "<h1>評估模型</h1>\n",
    "<div>\n",
    "    <h2>混淆矩陣</h2>\n",
    "    <br>\n",
    "    <img src = \"https://docs.microsoft.com/zh-tw/learn/wwl-data-ai/create-classification-model-azure-machine-learning-designer/media/confusion-matrix.png\">\n",
    "    <ul>\n",
    "        <li><strong>正確性：</strong>正確預測 (確判為真 + 確判不為真) 與預測總數的比率。</li>\n",
    "        <li><strong>精確度：</strong>正確識別陽性案例的比例 (確判為真的數目除以「確判為真加上誤判為真」的數目)。</li>\n",
    "        <li><strong>召回率：</strong>識別為陽性、且確實屬於陽性案例的比例 (確判為真的數目除以「確判為真加上誤判不為真」的數目)。</li>\n",
    "        <li><strong>F1 分數：</strong>本質上會結合精確度和召回率的整體計量。</li>\n",
    "    </ul>\n",
    "</div>"
   ]
  },
  {
   "cell_type": "markdown",
   "id": "fa778686",
   "metadata": {},
   "source": [
    "<h1>ROC curve</h1>\n",
    "<div>\n",
    "<img src =\"https://upload.wikimedia.org/wikipedia/commons/thumb/6/6b/Roccurves.png/220px-Roccurves.png\">\n",
    "    <p></p>\n",
    "\n",
    "\n",
    "\n",
    "</div>"
   ]
  }
 ],
 "metadata": {
  "kernelspec": {
   "display_name": "Python 3 (ipykernel)",
   "language": "python",
   "name": "python3"
  },
  "language_info": {
   "codemirror_mode": {
    "name": "ipython",
    "version": 3
   },
   "file_extension": ".py",
   "mimetype": "text/x-python",
   "name": "python",
   "nbconvert_exporter": "python",
   "pygments_lexer": "ipython3",
   "version": "3.10.4"
  }
 },
 "nbformat": 4,
 "nbformat_minor": 5
}
