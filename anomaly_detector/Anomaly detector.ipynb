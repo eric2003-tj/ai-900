{
 "cells": [
  {
   "cell_type": "markdown",
   "id": "ccf7eb8f",
   "metadata": {},
   "source": [
    "<h1>異常偵測</h1>\n",
    "<p>異常偵測是一種人工智慧技術，可用來判斷數列中的值是否在預期的參數內。</p>"
   ]
  },
  {
   "cell_type": "markdown",
   "id": "aafdbc06",
   "metadata": {},
   "source": [
    "<h3>異常偵測器</h3>\n",
    "<p>在描述時間序列資料的圖表中，有一個淺色陰影區域指出界限或敏感度範圍。 實心藍線用來表示測量值。 當測量值超出陰影界限時，會使用橙色點指出該值視為異常。 敏感度界限是您可以在呼叫服務時指定的參數。 允許您調整界線設定以調校結果。</p>\n",
    "<img src=\"https://docs.microsoft.com/zh-tw/learn/wwl-azure/intro-to-anomaly-detector/media/batch-anomaly.png\">"
   ]
  },
  {
   "cell_type": "markdown",
   "id": "e514f2e7",
   "metadata": {},
   "source": [
    "<h3>Azure 的異常偵測程式服務</h3>\n",
    "<p>異常偵測器屬於 Azure 認知服務中的決策服務類別。您需要自訂的主要參數是「敏感度」，該參數範圍從 1 到 99，可調整結果以符合案例。 服務可以偵測歷程記錄時間序列資料中的異常狀況，也可以偵測即時資料，例如從 IoT 裝置、感應器或其他串流輸入來源的串流輸入。</p>"
   ]
  },
  {
   "cell_type": "markdown",
   "id": "16ef2dd0",
   "metadata": {},
   "source": [
    "<h3>異常偵測器如何運作</h3>\n",
    "<p>異常偵測器服務會識別存在於界限範圍外的異常。 界限設定使用敏感度值。 系統會預設使用稱為 expectedValue、upperMargin 和 lowerMargin 的概念，計算異常偵測的上限和下限。 使用這三個值計算上限和下限。 如果某個值超過任一界限，則將識別為異常。 您可以套用 marginScale 至上限和下限，如下列公式所示，來調整界限。\n",
    "\n",
    "upperBoundary = expectedValue + (100-marginScale) * upperMargin</p>"
   ]
  },
  {
   "cell_type": "markdown",
   "id": "3aee28ff",
   "metadata": {},
   "source": [
    "<h3>資料</h3>\n",
    "<p>異常偵測器服務接受 JSON 格式的資料。 此服務最多可支援 8640 個資料點，然而在相同的 JSON 物件中傳送如此多個資料點，可能會導致回應延遲。 您可以透過將資料點分成較小的區塊 (視窗)，並依序傳送這些區塊，以改善回應速度。\n",
    "相同的 JSON 物件格式用於串流案例。 主要差異在於您將在每一要求中傳送單一值。 串流偵測方法會比較目前與先前的傳送值。</p>\n",
    "<p>如果您的資料在序列中可能有遺漏值，請考慮以下建議。<br>\n",
    "<ul>\n",
    "    <li>取樣會每隔幾分鐘進行一次，且遺漏點少於預計數目的 10%。 在此情況下，對偵測結果的影響應可忽略。</li>\n",
    "    <li>若遺漏超過 10%，則有選項協助「填入」資料集。 請考慮使用線性插補方法填入遺漏值，並完成資料集。 這會將平均分布值填滿間距。</li>\n",
    "</ul>\n",
    "若時間序列資料平均分佈，異常偵測器服務會提供最佳結果。 若資料較隨機分佈，您可以使用彙總方法，以建立更平均分佈的資料集。</p>"
   ]
  },
  {
   "cell_type": "markdown",
   "id": "0aad3628",
   "metadata": {},
   "source": [
    "<h3>使用異常偵測器的時機</h3>\n",
    "<p>異常偵測程式服務支援即時資料的時間序列資料和最後點異常偵測的批次處理。</p>\n",
    "<p>偵測分以下二類</p>\n",
    "<ul>\n",
    "    <li>批次偵測</li>\n",
    "    <li>即時偵測</li>\n",
    "</ul>"
   ]
  },
  {
   "cell_type": "code",
   "execution_count": null,
   "id": "f7992059",
   "metadata": {},
   "outputs": [],
   "source": []
  }
 ],
 "metadata": {
  "kernelspec": {
   "display_name": "Python 3 (ipykernel)",
   "language": "python",
   "name": "python3"
  },
  "language_info": {
   "codemirror_mode": {
    "name": "ipython",
    "version": 3
   },
   "file_extension": ".py",
   "mimetype": "text/x-python",
   "name": "python",
   "nbconvert_exporter": "python",
   "pygments_lexer": "ipython3",
   "version": "3.10.4"
  }
 },
 "nbformat": 4,
 "nbformat_minor": 5
}
